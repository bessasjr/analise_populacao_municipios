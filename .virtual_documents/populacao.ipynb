import pandas as pd
import numpy as np
import plotly.express as px
import math


# importando os datasets
cidades = pd.read_excel('RELATORIO_DTB_BRASIL_MUNICIPIO.xls')
df = pd.read_csv('populacao.csv')
df_nat = pd.read_csv('natalidade_2001_2020.csv', index_col=False)
df_mort = pd.read_csv('mortalidade_2001_2020.csv', index_col=False)

df.head()


cidades.head()


# renomeando colunas
df.rename(columns={'sigla_uf': 'uf', 'id_municipio':'id'}, inplace=True)

cidades.rename(columns={'codigo_municipio':'id','nome_municipio':'cidade'}, inplace=True)


# unindo os 2 dataframes pelo id
df01 = pd.merge(
    left=df,
    right=cidades.filter(items=['id', 'cidade']),
    on='id'
)


df01


# reoordenando as colunas do df
df01 = df01[['ano', 'cidade', 'uf', 'id', 'populacao']]
df01


#.assign


df01.loc[[116287]]


import unicodedata

cidades_sem_acento = df01.cidade.apply(lambda x: ((((unicodedata.normalize("NFD", x[:3])).encode("ascii", "ignore")).decode("utf-8")) + x[3:]))

df01.insert(
    loc = 1,
    column = 'cidade_sem_acento',
    value = cidades_sem_acento
)

df01



df01.loc[[116287]]


#df01[df01.uf == 'GO'].cidade.unique()


# script para criar uma coluna adicional de cidades sem acento para ordenação correta das cidades

# import unicodedata

# lista_sem_acento = []

# for cidade in df01.cidade.values[:50]:
#     original = cidade
#     #print(original)

#     #processado = unicodedata.normalize("NFD", original[:2])
#     #processado = processado.encode("ascii", "ignore")
#     #processado = processado.decode("utf-8")
    
    
    
#     processado = ((((unicodedata.normalize("NFD", original[:2])).encode("ascii", "ignore")).decode("utf-8")) + original[2:])

#     #processado = processado + original[2:]

#     print(processado)

#     if original == processado:
#         lista_sem_acento.append(original)
#     else:
#         lista_sem_acento.append(processado)

# df01.insert(
#     loc = 1,
#     column = 'cidade_sem_acento',
#     value = lista_sem_acento
# )

# df01


#df01[df01.uf == 'AC'].cidade.unique()


# Criando o dataframe com as cidades ordenadas pelo nome da cidade 
# sem acento, por isso existe as duas colunas de índice, a primeira, 
# sem acento, para ordenar o dataframe e a segunda, com os
# nomes corretamente, com acento.

df02 = df01.pivot_table(
    values='populacao',
    index=[
        'uf',
        'cidade_sem_acento',
        'cidade',
        'id',
    ],
    columns='ano',
    fill_value=None,
)

df02


# Verificando se as cidades estão ordenadas corretamente
df02.loc['GO']


# Retirando a camada de índice com as cidades sem acento
df02 = df02.droplevel(1)


df02.loc['GO']








# Exibe a camada de mul indice escolhida, no caso a camada 1, ordenando automaticamente em ordem alfabética

df02.index.levels[1]


# Seleciona pelo LOC usando as camadas
df02.loc[[('AP','Macapá',1600303)]]


# Seleciona pelo LOC usando as camadas
df02.loc[:,'Macapá',:]


# Exibe a camada de mul indice escolhida, no caso a camada 1, NÃO ordenando automaticamente em ordem alfabética

df02.index.get_level_values(1)


# inserindo uma coluna com os nomes das cidades para avaliar valores 
# ausentes por um gráfico imshow
# lista_cidades = []
# for s in df02.index:
#     lista_cidades.append(s[1])
    
    
cidades = list(df02.index.get_level_values(1))

    
df02.insert(
    loc = 0,
    column = 'cidade',
    value = cidades
)

df02


# avaliando valores ausentes por um gráfico imshow

fig = px.imshow(
    df02[df02.columns[1:]].isnull(),
    y=df02.cidade,
    aspect="auto",
    width=600,
    height=1200,
    color_continuous_scale='gray'
)

fig.show()


df02.loc['RR'].loc[:, 1991:2020].isnull()


# avaliando valores ausentes por um gráfico imshow por ESTADO

fig = px.imshow(
    df02.loc['AP'].loc[:, 1991:2020].isnull(),
    y=df02.loc['AP'].cidade,
    aspect="auto",
    width=1200,
    height=1600,
    color_continuous_scale='gray'
)

fig.show()


df02.reset_index('id', inplace=True)


df02.drop('cidade', axis=1, inplace=True)


df02


lista = []
for n in df02.id:
    lista.append(int(str(n)[:-1]))
    
df02.insert(
    loc = 1,
    column = 'codigo',
    value = lista
)

df02


anos = list(range(1991, 2001))
anos.append(2021)

df02.drop(columns=anos, axis=1, inplace=True)


df_nat


df02








# Criando o dataframe inicial com 20 linhas(anos) e as colunas:
    # População (variável independente | x)
    # Natalidade (variável dependente | y)

cidade = 'Luz'
estado = 'MG'

# descobrindo o código com 6 dígitos do município informado
codigo = df02.loc[estado,cidade,:].codigo.values[0]

# dados de população com o código informado
pop = list(df02[df02.codigo == codigo].loc[:, 2001:].values[0])

# dados de natalidade com o código informado
nat = list(df_nat[df_nat.codigo == str(codigo)].loc[:, '2001':].values[0])

df_city = pd.DataFrame(pop, columns=['População'], index=list(range(2001, 2021)))

df_city['Natalidade'] = nat

df_city


a


# Renomeando as colunas para suas variáveis
df_city.rename(columns={'População':'x', 'Natalidade':'y'}, inplace=True)
df_city


# Criando as outras 3 colunas com os seguintes atributos:
    # x²
    # y²
    # x * y


df_city['x2'] = df_city.x.apply(lambda x:x**2)
df_city['y2'] = df_city.y.apply(lambda y:y**2)
df_city['x*y'] = df_city.x * df_city.y

df_city


# criando a linha com a soma de cada coluna
total = df_city.sum(axis=0)
total


# ALTERANDO OS NÚMEROS QUE APARECEM COMO NOTAÇÃO CIENTÍFICA
pd.set_option('float_format', '{:.0f}'.format)

total = df_city.sum(axis=0)
total


# Adicionando uma nova linha (Total) com os valores da soma
df_city.loc['Total'] = total

df_city


# fazendo a operação
n = len(df_city.index) - 1
xy = df_city['x*y'].loc['Total']
x = df_city['x'].loc['Total']
y = df_city['y'].loc['Total']
x2 = df_city['x2'].loc['Total']
y2 = df_city['y2'].loc['Total']

# n = 6
# xy = 1827.48
# x = 314.40
# y = 34.40
# x2 = 16649.28
# y2 = 201.06

(n * xy - x * y) / math.sqrt(((n * x2 - (x**2)) * (n * y2 - (y**2))))



df_city.corr()



