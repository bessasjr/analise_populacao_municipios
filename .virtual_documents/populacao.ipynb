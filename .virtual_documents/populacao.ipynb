import pandas as pd
import numpy as np
import plotly.express as px


# importando os datasets
cidades = pd.read_excel('RELATORIO_DTB_BRASIL_MUNICIPIO.xls')
df = pd.read_csv('populacao.csv')
df_nat = pd.read_csv('natalidade_2001_2020.csv', index_col=False)
df_mort = pd.read_csv('mortalidade_2001_2020.csv', index_col=False)

df.head()


cidades.head()


# renomeando colunas
df.rename(columns={'sigla_uf': 'uf', 'id_municipio':'id'}, inplace=True)

cidades.rename(columns={'codigo_municipio':'id','nome_municipio':'cidade'}, inplace=True)


# unindo os 2 dataframes pelo id
df01 = pd.merge(
    left=df,
    right=cidades.filter(items=['id', 'cidade']),
    on='id'
)


df01


# reoordenando as colunas do df
df01 = df01[['ano', 'cidade', 'uf', 'id', 'populacao']]
df01


#df01[df01.uf == 'GO'].cidade.unique()


# script para criar uma coluna adicional de cidades sem acento para ordenação correta das cidades

import unicodedata

lista_sem_acento = []

for cidade in df01.cidade.values:
    original = cidade

    processado = unicodedata.normalize("NFD", original[:2])
    processado = processado.encode("ascii", "ignore")
    processado = processado.decode("utf-8")

    processado = processado + original[2:]

    if original == processado:
        lista_sem_acento.append(original)
    else:
        lista_sem_acento.append(processado)

df01.insert(
    loc = 1,
    column = 'cidade_sem_acento',
    value = lista_sem_acento
)

df01


#df01[df01.uf == 'AC'].cidade.unique()


# Criando o dataframe com as cidades ordenadas pelo nome da cidade 
# sem acento, por isso existe as duas colunas de índice, a primeira, 
# sem acento, para ordenar o dataframe e a segunda, com os
# nomes corretamente, com acento.

df02 = df01.pivot_table(
    values='populacao',
    index=[
        'uf',
        'cidade_sem_acento',
        'cidade',
        'id',
    ],
    columns='ano',
    fill_value=None,
)

df02


# Verificando se as cidades estão ordenadas corretamente
df02.loc['GO']


# Retirando a camada de índice com as cidades sem acento
df02 = df02.droplevel(1)


df02.loc['GO']


# inserindo uma coluna com os nomes das cidades para avaliar valores 
# ausentes por um gráfico imshow
lista_cidades = []
for s in df02.index:
    lista_cidades.append(s[1])

    
df02.insert(
    loc = 0,
    column = 'cidade',
    value = lista_cidades
)

df02


# avaliando valores ausentes por um gráfico imshow

fig = px.imshow(
    df02[df02.columns[1:]].isnull(),
    y=df02.cidade,
    aspect="auto",
    width=600,
    height=1200,
    color_continuous_scale='gray'
)

fig.show()


df02.loc['RR'].loc[:, 1991:2020].isnull()


# avaliando valores ausentes por um gráfico imshow por ESTADO

fig = px.imshow(
    df02.loc['GO'].loc[:, 1991:2020].isnull(),
    y=df02.loc['GO'].cidade,
    aspect="auto",
    width=1200,
    height=1600,
    color_continuous_scale='gray'
)

fig.show()


df02.reset_index('id', inplace=True)


df02.drop('cidade', axis=1, inplace=True)


df02


lista = []
for n in df02.id:
    lista.append(int(str(n)[:-1]))
    
df02.insert(
    loc = 1,
    column = 'codigo',
    value = lista
)

df02


df_nat
