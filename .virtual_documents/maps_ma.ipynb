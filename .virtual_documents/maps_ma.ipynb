import json
import pandas as pd
import plotly
import plotly.express as px


df = pd.read_csv('populacao_3.csv')


df


df.id = df.id.astype('str')


df.info()


 # Abrindo o JSON e guardando em um objeto Python
objeto_geo_cidades_MA = open('json_geographic_brazil/nordeste/ma.json')

# Lendo o arquivo georreferenciado no formato JSON
geo_ma = json.load(objeto_geo_cidades_MA) 


# Salvando os dados percentuais
dicionario_ma = {}
for i in df[df.uf == 'MA'].index:
    # if df.loc[i][1] in ['Unaí', 'Paracatu', 'Moema', 'Lagoa da Prata', 'Luz', 'Bom Despacho']:
    perc = f'{((df.loc[i][-1]/df.loc[i][3])-1)*100:.2f}'
    #perc = perc.replace('.', ',')
    #print(perc,'|', df.loc[i][1], '|', df.loc[i][2])
    dicionario_ma[df.loc[i][1]] = [df.loc[i][1], df.loc[i][2], float(perc)]
        
#dicionario_ma


df_ma = pd.DataFrame(dicionario_ma.values(),columns=['cidade', 'id', 'percentual'])
df_ma


fig = px.choropleth_mapbox(
    df_ma,
    geojson = geo_ma,
    locations='id',
    featureidkey = 'properties.id',
    color = 'percentual',
    #animation_frame = '2020',
    hover_name = 'cidade',
    #hover_data = [‘casos’],
    #title = 'Minas Geais',
    #color_continuous_scale='Viridis',
    color_continuous_scale='Reds',
    #mapbox_style='open-street-map',
    mapbox_style="carto-positron",
    #mapbox_style='white-bg',
    #center = {'lat':-22.77972, 'lon': -48.5},
    center = {'lat': -5.5, 'lon': -45.18},
    zoom = 5.7,
    opacity = 0.95,
    width = 1000,
    height = 800,
)


fig.update_geos(
    fitbounds = 'locations',
    visible = False
)

fig.update_layout(margin={'r':0,'t':0,'l':0, 'b':0})

#plotly.offline.plot(fig, filename = 'minas_gerais.html')

fig.show()



