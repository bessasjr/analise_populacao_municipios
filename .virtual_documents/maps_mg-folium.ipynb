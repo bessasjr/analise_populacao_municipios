import json
import pandas as pd
import geopandas as gpd
import folium


df = pd.read_csv('populacao_3.csv')


df


df.id = df.id.astype('str')


df.info()


# Salvando os dados percentuais
dicionario_mg = {}
for i in df[df.uf == 'MG'].index:
    # if df.loc[i][1] in ['Unaí', 'Paracatu', 'Moema', 'Lagoa da Prata', 'Luz', 'Bom Despacho']:
    perc = f'{((df.loc[i][-1]/df.loc[i][3])-1)*100:.2f}'
    #perc = perc.replace('.', ',')
    #print(perc,'|', df.loc[i][1], '|', df.loc[i][2])
    dicionario_mg[df.loc[i][1]] = [df.loc[i][1], df.loc[i][2], float(perc)]
        
#dicionario_mg


df_mg = pd.DataFrame(dicionario_mg.values(),columns=['cidade', 'id', 'percentual'])
df_mg


# Pegando o geojson
url_geojson = 'mg.json'

geo_mg = gpd.read_file(url_geojson)

#geo_mg


# Levando os dados da taxa de mortalidade para dentro do objeto geoespacial
geo_mg = pd.merge(
    left = geo_mg,
    right = df_mg.filter(items=['id','percentual']), 
    on='id'
)

geo_mg


get_ipython().run_cell_magic("timeit", "", """# Criando o mapa base
mapa_folium = folium.Map(
    width = 800, 
    height = 600, 
    location = [-18.65, -45.61], 
    zoom_start = 6, 
    tiles = "cartodbpositron"
    #tiles = "OpenStreetMap"
)

# Criando a camada Choroplet
mapa = folium.Choropleth(
    geo_data = geo_mg,
    name ='choropleth',
    data = df_mg,
    columns = ['id','percentual'],
    key_on = 'feature.properties.id',
    fill_color = 'Reds',
    fill_opacity = 1.0,
    line_opacity = 0.9,
    line_color = 'grey', 
    line_weight = 0.25,
    legend_name = 'Variação percentual da população entre 2001 e 2020',
    highlight = True,
    reset = True 

).add_to(mapa_folium)

# Inserindo os rotulos ao passar o mouse
mapa.geojson.add_child(
  folium.features.GeoJsonTooltip(
      fields = ['name','id','percentual'],
      aliases = ['Município:','id:', 'Percentual:'],
      labels = True,
      localize = True,
      sticky = False,
  )
)

# Renderizando o mapa
mapa_folium""")






