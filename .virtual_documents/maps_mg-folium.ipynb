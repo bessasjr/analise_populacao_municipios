import time


ini = time.time()


import json
import pandas as pd
import geopandas as gpd
import folium


df = pd.read_csv('populacao_3.csv', engine='c')


df


df.id = df.id.astype('str')


df.info()


# Salvando os dados percentuais
dicionario_mg = {}
for i in df[df.uf == 'MG'].index:
    # if df.loc[i][1] in ['Unaí', 'Paracatu', 'Moema', 'Lagoa da Prata', 'Luz', 'Bom Despacho']:
    perc = f'{((df.loc[i][-1]/df.loc[i][3])-1)*100:.2f}'
    #perc = perc.replace('.', ',')
    #print(perc,'|', df.loc[i][1], '|', df.loc[i][2])
    dicionario_mg[df.loc[i][1]] = [df.loc[i][1], df.loc[i][2], float(perc)]
        
#dicionario_mg


df_mg = pd.DataFrame(dicionario_mg.values(),columns=['cidade', 'id', 'percentual'])
df_mg


# Pegando o geojson
url_geojson = 'json_geographic_brazil/sudeste/mg.json'

geo_mg = gpd.read_file(url_geojson)

#geo_mg


# Levando os dados da taxa de mortalidade para dentro do objeto geoespacial
geo_mg = pd.merge(
    left = geo_mg,
    right = df_mg.filter(items=['id','percentual']), 
    on='id'
)

geo_mg


get_ipython().run_cell_magic("time", "", """# Criando o mapa base
mapa_folium = folium.Map(
    width = 800, 
    height = 600,
    location = [-18.65, -45.61], 
    zoom_start = 6, 
    #tiles = "cartodbpositron"
    #tiles = "OpenStreetMap"
    #tiles = 'Mapbox_Control_Room'
    tiles=None,
    
)

# Criando a camada Choroplet
mapa = folium.Choropleth(
    geo_data = geo_mg,
    name ='choropleth',
    bins=100,
    data = df_mg,
    columns = ['id','percentual'],
    key_on = 'feature.properties.id',
    fill_color = 'Reds',
    nan_fill_color = 'white',
    #nan_fill_opacity = 0.1,
    fill_opacity = 1.0,
    line_opacity = 0.9,
    line_color = 'black', 
    line_weight = 0.25,
    legend_name = 'Variação percentual da população entre 2001 e 2020',
    highlight = True,
    reset = True,

).add_to(mapa_folium)

# folium.Marker([-43.9431934105, -19.7976070923],
#               popup='Some Other Location',
#               icon=folium.Icon(color='darkblue',icon='circle')
#               ).add_to(mapa_folium)


# Inserindo os rotulos ao passar o mouse
mapa.geojson.add_child(
  folium.features.GeoJsonTooltip(
      fields = ['name','id','percentual'],
      aliases = ['Município:','id:', 'Percentual:'],
      labels = True,
      localize = True,
      sticky = False,
      style=('background-color: black; color: white; font-family: Arial')
      
  )
)


# Renderizando o mapa
mapa_folium""")


#mapa_folium.save('map_mg.html')


fim = time.time()


fim - ini
