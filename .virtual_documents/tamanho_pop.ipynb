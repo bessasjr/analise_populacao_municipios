import pandas as pd
import numpy as np
import plotly.express as px
import math
import plotly.express as px


# estados = pd.read_excel('estados.xls')
cidades = pd.read_excel('RELATORIO_DTB_BRASIL_MUNICIPIO.xls')
df = pd.read_csv('populacao.csv')
df.head()


cidades


dicionario_cidades = {}
for i in cidades.index:
    #print(i)
    dicionario_cidades[cidades.loc[i].codigo_municipio] = cidades.loc[i].nome_municipio

#print(dicionario_cidades)


lista = []
for i in df.index:
    #print(i)
    if df.loc[i].id_municipio in dicionario_cidades.keys():
        #print(dicionario_cidades[df.loc[i].id_municipio])
        lista.append(dicionario_cidades[df.loc[i].id_municipio])

#lista


#df[df.uf == 'AC'].tail(50)


for i in range(len(lista)):
    if 'Águia Branca' == lista[i]:
        print(lista[i], i)


df['cidade'] = lista[:]


df


df = df[['ano', 'cidade', 'sigla_uf', 'id_municipio', 'populacao']]
df


df.rename(columns={'sigla_uf': 'uf'}, inplace=True)


df


df.loc[1530:1540]


lista_codigos = []
dicionario_codigos = {}
for i in df.id_municipio:
    lista_codigos.append(int(str(i)[:-1]))
    #print(int(str(i)[:-1]))
    
dicionario_codigos['codigo'] = lista_codigos[:]


#print(lista_codigos)
#print(dicionario_codigos)


df.insert(
    loc = 3,
    column = 'codigo',
    value = lista_codigos
)

df


df[df.uf == 'RO']


df[df.uf == 'RO']


df.cidade.loc[0]


df.shape


# # tentativa de criar lista com nomes das cidades com acento

# lista2 = []
# lista_com_acento = []

# estados = ['RO', 'AC', 'AM', 'RR', 'PA', 'AP', 'TO', 'MA', 'PI', 'CE', 'RN', 'PE', 'AL', 'SE', 'BA', 'MG', 'ES', 'RJ', 'SP', 'PR', 'SC','RS', 'MS', 'MT', 'GO', 'DF']

# #estados = ['GO', 'RR']

# for i in estados:
# #    print(i)
#     for n in df[df.uf == i].index:
#         #print(df.cidade.loc[n])
#         if df.cidade.loc[n] not in lista2:
#             lista2.append(df.cidade.loc[n])
#         else:
#             pass
#     #lista_com_acento.extend(lista2[:])
#     lista_com_acento.append(lista2[:])
#     lista2.clear()
        
# len(lista_com_acento) # tá errado, é pra dar 5570 


#lista_com_acento


# lista_2 = []
# for y, k in df[['cidade', 'uf']].values:
#     if y in lista2:
#         pass
#     else:
#         print(k)
    


#cidades_com_acento


# script para criar uma coluna adicional de cidades sem acento para ordenação correta das cidades
import unicodedata

lista_sem_acento = []
#lista_com_acento = []

for cidade in df.cidade.values:
    #print(i)
    original = cidade

    processado = unicodedata.normalize("NFD", original[:2])
    processado = processado.encode("ascii", "ignore")
    processado = processado.decode("utf-8")

    processado = processado + original[2:]

    if original == processado:
        lista_sem_acento.append(original)
    else:
        lista_sem_acento.append(processado)
        #lista_ordenada.append(original)

    #lista_ordenada = sorted(lista_ordenada)
df.insert(
    loc = 1,
    column = 'cidade_sem_acento',
    value = lista_sem_acento
)


    
# for i in range(len(lista_sem_acento)):
#     for n in df.cidade.valuesa:
#         if n[2:] in lista_sem_acento[i][2:]:
#             lista_com_acento.append(n)


#lista_ordenada
#lista_final

df


df.loc[161391]


#df.drop('cidade', axis=1, inplace=True)


df


# df.insert(
#     loc = 2,
#     column = 'cidade',
#     value = lista_com_acento
# )

# df


# Criando o dataframe com as cidades ordenadas pelo nome da cidade sem acento, por isso existe as duas colunas de índice, a primeira, sem acento, para ordenar o dataframe e a segunda, com os nomes corretamente, com acento.

df2 = df.pivot_table(values='populacao', 
                     index=[
                         'uf',
                         'cidade_sem_acento',
                         'cidade',
                         'codigo',
                         #'id_municipio'
                     ],
                     columns='ano',
                     fill_value=None,
                     #dropna=False,
                    )

df2


df2.loc['GO']


# Retirando a camada de índice com as cidades sem acento
df2 = df2.droplevel(1)


df2.loc['GO']


#len(cidades_com_acento)


# lista_com_acento = []
# #for s in df2.index:
# for s in df2.index:
#     #print(s[0][2:])
#     for r in cidades_com_acento:
#         if r[2:] == s[1][2:]:
#             lista_com_acento.append(r)
#     #for n in cidades_com_acento:if s[1][2:] in cidades_com_acento[i][2:]:
#     #     lista_com_acento.append(n)


#lista_com_acento


count = 0
for t in df2.index.values:
    count += 1
    
count


# df2.insert(
#     loc = 2,
#     column = 'cidade',
#     value = lista_com_acento
# )

# df2


a = df2.loc['AC'].loc['Acrelândia'][1991].values[0]
if math.isnan(a) == True:
    print('OK')





df2.reset_index('codigo', inplace=True)



df2.drop(df2.columns[1:11], axis=1, inplace=True)
df2.drop(2021, axis=1, inplace=True)
df2


df2.loc['GO'].loc[['Luziânia']]


df2.loc['MG'].loc[['Unaí', 'Paracatu', 'Moema', 'Luz', 'Lagoa da Prata']]


df2.loc['MG'].loc[['Moema', 'Paracatu']]


#df2.loc[('MG', 'Unaí'),('MG', 'Paracatu')]


df2


# df2.loc[[('MG', 'Unaí'),
#          ('MG', 'Paracatu'),
#          ('GO', 'Luziânia'),
#          ('GO','Cidade Ocidental'),
#          ('GO', 'Valparaíso de Goiás'),
#          ('GO', 'Novo Gama'),
#          ('GO', 'Águas Lindas de Goiás')
#         ]]


df2.loc['DF']


df2.loc[[('BA', 'Itacaré'),('BA','Camamu')]]


df2.loc['BA'].loc[['Itacaré', 'Camamu', 'Maraú']][df2.columns[11:21]]


df2.loc['MG'].loc[['Unaí', 'Paracatu', 'Moema', 'Luz', 'Lagoa da Prata']][df2.columns[11:31]]


minas = df2.loc['MG'].loc[['Unaí', 'Paracatu', 'Moema', 'Luz', 'Lagoa da Prata']][df2.columns[11:31]]

for i in minas.index:
    print(f'{i:.<18}{(((minas.loc[i].iloc[-1] / minas.loc[i].iloc[0])-1)*100):>5.2f}%')


minas.loc['Unaí'].iloc[-1]


#Percentual de aumento/diminuição da população nas cidades

estado = 'BA'

cidades = df2.loc[estado][df2.columns[11:31]]

print(estado, '\n')
for i in cidades.index:
    pass
    #print(f'{i:.<25}{(((cidades.loc[i].iloc[-1] / cidades.loc[i].iloc[0])-1)*100):>7.2f}%')


#estado = 'DF'
dicionario100 = {}

estados=[    'RO','AC','AM','RR','PA','AP','TO','MA','PI','CE','RN','PB','PE','AL','SE','BA','MG','ES','RJ','SP','PR','SC','RS','MS','MT','GO','DF'
        ]
#cidades = df2.loc[estado][df2.columns[10:30]]

for n in estados:
    cidades = df2.loc[n][df2.columns[11:31]]
    for i in cidades.index:
        crescimento = (((cidades.loc[i].iloc[-1] / cidades.loc[i].iloc[0])-1)*100)
        if crescimento > 100.0:
            pass
            dicionario100[f'{n}-{i}'] = crescimento
            #print(f'{n}-{i:.<25}{crescimento:>7.2f}%')
            
#dicionario100


#max(dicionario100.values())


estados=[    'RO','AC','AM','RR','PA','AP','TO','MA','PI','CE','RN','PB','PE','AL','SE','BA','MG','ES','RJ','SP','PR','SC','RS','MS','MT','GO','DF'
        ]
dicionario_estados = {}

for n in estados:
    lista = []
    #print(n, '\n')
    cidades = df2.loc[n][df2.columns[1:31]]
    #for i in cidades.index:
        #lista.append(i)
    dicionario_estados[n] = cidades.sum()
    #print(cidades.sum())
    #print('\n')
    # for i in cidades.index:
    #     crescimento = (((cidades.loc[i].iloc[-1] / cidades.loc[i].iloc[0])-1)*100)
        #if crescimento > 100.0:
            #dicionario100[f'{n}-{i}'] = crescimento
            #print(f'{n}-{i:.<25}{crescimento:>7.2f}%')
            
#dicionario_estados



df_estados = pd.DataFrame(dicionario_estados)
df_estados


((df_estados.loc[2020] / df_estados.loc[2001])-1)*100


for k,v in dicionario_estados['RO'].items():
    print(f'{k} - {v}')


df2.loc[[('MA', 'Imperatriz'),('MG', 'Governador Valadares')]]


df2


df2.loc['GO'].loc[['Luziânia']]


df_nat = pd.read_csv('natalidade_2001_2020.csv', index_col=False)
df_mort = pd.read_csv('mortalidade_2001_2020.csv', index_col=False)


df_nat


df_mort


df2


type(df2.codigo[0])


df_nat.codigo[0]


df_mort.codigo[0]


df_nat.codigo.iloc[:-1] = pd.to_numeric(df_nat.codigo.iloc[:-1], errors='coerce')


df_mort.codigo.iloc[:-1] = pd.to_numeric(df_mort.codigo.iloc[:-1], errors='coerce')


df_nat.codigo[0]


df_mort.codigo[0]


# print(pd.merge(df2, df_nat.iloc[:-1], df_mort.iloc[:-1], how='inner', on='codigo'))


# df_nat.set_index('codigo', inplace=True)
# df_mort.set_index('codigo', inplace=True)


# print(pd.merge(df_nat.iloc[:-1], df_mort.iloc[:-1], how='inner', on=['codigo']))


df2.columns


df2[df2.codigo == 120001].index[0][1]


df_nat[df_nat.codigo == 120001]['2001'].values[0]


df_mort[df_mort.codigo == 120001]


#df2.to_csv("populacao_3.csv")


df2[df2.codigo.values == 521250].index


df_nat[df_nat.codigo == 521225]['2001'].values[0]


# a = df2.loc['AC'].loc['Acrelândia'][1991].values[0]
# if math.isnan(a) == True:
#     print('OK')


# obtendo as cidades a partir dos códigos
lista_cid = [2167, 1891]
for i in df2.codigo.values[lista_cid[:]]:
    print(df2[df2.codigo == i].index.values[0][1])


# obtendo os códigos a partir das cidades
cidades = ['Unaí', 'Paracatu']
for i in df2.index.values:
    if i[1] in cidades:
        codigo = int(df2.loc[i].codigo)
        print(codigo)


# lista_cid = ['Unaí']
# for i in df2.index.values[0][1]:
#     print(df2[df2.index.values[0][1] == i])


# Obtendo e apresentando os dados da população, natalidade e mortalidade das cidades pelos seus códigos

lista = list(range(2001, 2021))

lista_cid = [2167, 1891]

print('\033[1mCidade                         Código   Ano    População  Natalidade  Mortalidade\033[m\n')
#for i in df2.codigo.values[2167:2168]:
for i in df2.codigo.values[lista_cid[:]]:
    pop = df2[df2.codigo == i]
    nat = df_nat[df_nat.codigo == i]
    mort = df_mort[df_mort.codigo == i]
    print()
    for n in lista:
        estado = pop.index[0][0]
        cidade = pop.index[0][1]
        
        if pop[n].values[0] != None:
            populacao = int(pop[n].values[0])
        else:
            população = None
        if math.isnan(nat[str(n)].values[0]) == True:
            natalidade = ''
        else:
            natalidade = nat[str(n)].values[0]
            natalidade = natalidade.astype(int)
        if math.isnan(mort[str(n)].values[0]) == True:
            mortalidade = ''
        else:
            mortalidade = mort[str(n)].values[0]
            mortalidade = mortalidade.astype(int)
        # else:
        #     mortalidade = None
        print(f'\033[1m{estado:<3}- {cidade:.<25}\033[m {i:<8} {n:<7}  {populacao:>5}  {natalidade:>8}  {mortalidade:>10}')


df.uf.unique()


df2.loc['MG', 'Moema']


df2.loc['MG'].loc['Moema'].codigo


df2.codigo.values[2167]


df2.codigo.iloc[1]


cidade = 'Vitória'

for i in range(len(df2)):
    #print(df2.index[i][1])
    if df2.index[i][1] == cidade:
        print(i, df2.codigo.iloc[i])
        


df2.iloc[[879]]


df_nat[df_nat.codigo == 320530]


lista = ['df2', 'df_nat', 'df_mort']

for k in lista:
    a =k+f'[{k}.codigo == 320530][2001]'
    print(a)
    #print(k[k.codigo == 320530][2001])


# Obtendo os dados da população, natalidade e mortalidade de uma cidade pelo nome da cidade e salvando em um dataframe

#cidade = input('Qual cidade? ')

cidade = 'Luz'

city = None

for i in range(len(df2)):
    #print(df2.index[i][1])
    if df2.index[i][1] == cidade:
        city = df2.codigo.iloc[i]
        #print(i, df2.codigo.iloc[i])

dicionario_ano = {}
dicionario_cidade1 = {}

lista = list(range(2001, 2021))

#cid = 2167
#city = 314240

#city = df2.codigo.values[cid]

pop = df2[df2.codigo == city]
nat = df_nat[df_nat.codigo == city]
mort = df_mort[df_mort.codigo == city]

for n in lista:
    estado = pop.index[0][0]
    cidade = pop.index[0][1]

    if pop[n].values[0] != None:
        populacao = int(pop[n].values[0])
    else:
        população = None
    if math.isnan(nat[str(n)].values[0]) == True:
        natalidade = ''
    else:
        natalidade = nat[str(n)].values[0]
        natalidade = natalidade.astype(int)
    if math.isnan(mort[str(n)].values[0]) == True:
        mortalidade = ''
    else:
        mortalidade = mort[str(n)].values[0]
        mortalidade = mortalidade.astype(int)

    dicionario_ano[n] = [populacao, natalidade, mortalidade]
    dicionario_cidade1[cidade] = dicionario_ano

#print(dicionario_cidade[city], '\n')
#print(dicionario_cidade[df2[df2.codigo == city].index[0][1]])

# for i in dicionario_cidade1[list(dicionario_cidade1)[0]]:
#     print(f'\033[1m{i}\033[m', end=' - ')
#     print(dicionario_cidade1[list(dicionario_cidade1)[0]][i][0])
    
df_city = pd.DataFrame(dicionario_cidade1[list(dicionario_cidade1)[0]], index=[[df2[df2.codigo == city].index[0][1], df2[df2.codigo == city].index[0][1], df2[df2.codigo == city].index[0][1]],['população','natalidade','mortalidade']])

df_city


# Obtendo os dados da população, natalidade e mortalidade de uma cidade pelos seu código e salvando em um dicionario

dicionario_ano = {}
dicionario_cidade1 = {}

lista = list(range(2001, 2021))

#cid = 2167
city = 314240

#city = df2.codigo.values[cid]

pop = df2[df2.codigo == city]
nat = df_nat[df_nat.codigo == city]
mort = df_mort[df_mort.codigo == city]

for n in lista:
    estado = pop.index[0][0]
    cidade = pop.index[0][1]

    if pop[n].values[0] != None:
        populacao = int(pop[n].values[0])
    else:
        população = None
    if math.isnan(nat[str(n)].values[0]) == True:
        natalidade = ''
    else:
        natalidade = nat[str(n)].values[0]
        natalidade = natalidade.astype(int)
    if math.isnan(mort[str(n)].values[0]) == True:
        mortalidade = ''
    else:
        mortalidade = mort[str(n)].values[0]
        mortalidade = mortalidade.astype(int)

    dicionario_ano[n] = [populacao, natalidade, mortalidade]
    dicionario_cidade1[cidade] = dicionario_ano

#print(dicionario_cidade[city], '\n')
#print(dicionario_cidade[df2[df2.codigo == city].index[0][1]])

for i in dicionario_cidade1[list(dicionario_cidade1)[0]]:
    print(f'\033[1m{i}\033[m', end=' - ')
    print(dicionario_cidade1[list(dicionario_cidade1)[0]][i][0])


# for p in df2.index:
#     print(p[0])


# Obtendo os dados da população, natalidade e mortalidade de uma cidade pelos seu código e salvando em um dicionario
lista_MG = []

dicionario_geral = {}
dicionario_estado = {}

dicionario_ano = {}
dicionario_cidade = {}

lista = list(range(2001, 2021))


#estados = ['RO', 'AC', 'AM', 'RR', 'PA', 'AP', 'TO', 'MA', 'PI', 'CE', 'RN',
#       'PB', 'PE', 'AL', 'SE', 'BA', 'MG', 'ES', 'RJ', 'SP', 'PR', 'SC',
#       'RS', 'MS', 'MT', 'GO', 'DF']

estados = ['AC', 'RR']



for i in df2.codigo.values[0:1572]:
    pop = df2[df2.codigo == i]
    nat = df_nat[df_nat.codigo == i]
    mort = df_mort[df_mort.codigo == i]
    
    for p in estados:
        if p == pop.index[0][0]:
            #print(p)

            for n in lista:
                estado = pop.index[0][0]
                cidade = pop.index[0][1]

                if pop[n].values[0] != None:
                    populacao = int(pop[n].values[0])
                else:
                    população = None
                if math.isnan(nat[str(n)].values[0]) == True:
                    natalidade = ''
                else:
                    natalidade = nat[str(n)].values[0]
                    natalidade = natalidade.astype(int)
                if math.isnan(mort[str(n)].values[0]) == True:
                    mortalidade = ''
                else:
                    mortalidade = mort[str(n)].values[0]
                    mortalidade = mortalidade.astype(int)
                    
                dicionario_ano[n] = [populacao, natalidade, mortalidade]
                
                dicionario_cidade[cidade] = {}
                dicionario_cidade[cidade] = dicionario_ano
            #dicionario_estado[estado] = dicionario_cidade


        #print(dicionario_cidade[city], '\n')
        #print(dicionario_cidade[df2[df2.codigo == city].index[0][1]])

            dicionario_geral[estado] = dicionario_cidade
            dicionario_ano = {}
            #dicionario_cidade = {}
            #dicionario_geral.update(dicionario_cidade)
            #dicionario.update({'abcde':1})

            #for i in dicionario_cidade[list(dicionario_cidade)[0]]:
                #print(f'\033[1m{i}\033[m', end=' - ')
                #print(dicionario_cidade[list(dicionario_cidade)[0]][i][0])
            #print()
    
lista_MG.append(dicionario_geral)
#dicionario_geral
#lista_MG


#lista_MG


#dicionario_cidade.keys()
dicionario_cidade[list(dicionario_cidade)[0]]


df2[df2.codigo == city].index[0][1]


# columns=['população', 'natalidade', 'mortalidade']
df1 = pd.DataFrame(dicionario_cidade1[list(dicionario_cidade1)[0]], index=[[df2[df2.codigo == city].index[0][1], df2[df2.codigo == city].index[0][1], df2[df2.codigo == city].index[0][1]],['população','natalidade','mortalidade']])
df1


df1


#df1.loc['Unaí', 'população']


#df1.loc['Unaí', 'população'].values


fig = px.line(x=df1.columns, y=df1.loc['Moema', 'população'].values)

fig.show()


df1.iloc[1:3]


df2.codigo.values[1011]


nat = df_nat[df_nat.codigo == 521225]
nat


print(df_nat[df_nat.codigo == 521225]['2001'].values[0].astype(int))


df_nat[df_nat.codigo == 521225]['2001'].values[0]


#nat['2002'].values[1]


df2[df2.codigo == 521225]


lista = list(range(2001, 2006))

for i in df2.codigo.values[:5]:
    pop = df2[df2.codigo == i]
    nat = df_nat[df_nat.codigo == i]
    mort = df_mort[df_mort.codigo == i]
    print(i)


df2.loc['MG', 'Moema']


fig = px.line(y=df2.loc['MG', 'Moema'][1:].values, x=df2.loc['MG', 'Moema'][1:].keys())

fig.show()


# Obtendo os dados da população, natalidade e mortalidade de uma cidade pelo nome da cidade e salvando em um dataframe

#cidade = input('Qual cidade? ')

cidade = 'Luziânia'

city = None

for i in range(len(df2)):
    if df2.index[i][1] == cidade:
        city = df2.codigo.iloc[i]

dicionario_ano = {}
dicionario_cidade1 = {}

lista = list(range(2001, 2021))

pop = df2[df2.codigo == city]
nat = df_nat[df_nat.codigo == city]
mort = df_mort[df_mort.codigo == city]

for n in lista:
    estado = pop.index[0][0]
    cidade = pop.index[0][1]

    if pop[n].values[0] != None:
        populacao = int(pop[n].values[0])
    else:
        população = None
    if math.isnan(nat[str(n)].values[0]) == True:
        natalidade = ''
    else:
        natalidade = nat[str(n)].values[0]
        natalidade = natalidade.astype(int)
    if math.isnan(mort[str(n)].values[0]) == True:
        mortalidade = ''
    else:
        mortalidade = mort[str(n)].values[0]
        mortalidade = mortalidade.astype(int)

    dicionario_ano[n] = [populacao, natalidade, mortalidade]
    dicionario_cidade1[cidade] = dicionario_ano


df_city = pd.DataFrame(dicionario_cidade1[list(dicionario_cidade1)[0]], index=[[df2[df2.codigo == city].index[0][1], df2[df2.codigo == city].index[0][1], df2[df2.codigo == city].index[0][1]],['população','natalidade','mortalidade']])

df_city


df2.loc['RR']


estados = [
    'RO','AC','AM','RR','PA',
    'AP','TO','MA','PI','CE',
    'RN','PB','PE','AL','SE',
    'BA','MG','ES','RJ','SP',
    'PR','SC','RS','MS','MT',
    'GO','DF'
]

print(sorted(estados))


estados=['AC', 'AL', 'AM', 'AP', 'BA', 'CE', 'DF', 'ES', 'GO', 'MA', 'MG', 'MS', 'MT', 'PA', 'PB', 'PE', 'PI', 'PR', 'RJ', 'RN', 'RO', 'RR', 'RS', 'SC', 'SE', 'SP', 'TO']

cidade = None
city = None
dicionario_ano = {}
dicionario_cidade2 = {}
dicionario_estados = {}
dicionario_pais = {}
lista_estados = []
lista = list(range(2001, 2021))

#estados = ['RR','AC']
#estados = ['MG', 'SP', 'RJ', 'ES']
#estados = ['PB', 'PE', 'PI']

for i in estados:
    df_teste = df2.loc[i]
    for n in df_teste.index:
        cidade = n
        #print(cidade)

        for s in range(len(df2)):
            if df2.index[s][1] == cidade and df2.index[s][0] == i:
                city = df2.codigo.iloc[s]
                #print(city)

        pop = df2[df2.codigo == city]
        #print(pop)
        nat = df_nat[df_nat.codigo == city]
        mort = df_mort[df_mort.codigo == city]

        for n in lista:
            estado = pop.index[0][0]
            cidade = pop.index[0][1]
            
            # cidade_sem_acento = unicodedata.normalize("NFD", cidade)
            # cidade_sem_acento = cidade_sem_acento.encode("ascii", "ignore")
            # cidade_sem_acento = cidade_sem_acento.decode("utf-8")
            # print(processamento_2) # E o 5 e ultimo. Estava 30C

            # if pop[n].values[0] != None:
            #     populacao = int(pop[n].values[0])
            # else:
            #     populacao = None
            if math.isnan(pop[n].values[0]) == True:
                populacao = ''
            else:
                populacao = int(pop[n].values[0])
            if math.isnan(nat[str(n)].values[0]) == True:
                natalidade = ''
            else:
                natalidade = nat[str(n)].values[0]
                natalidade = natalidade.astype(int)
            if math.isnan(mort[str(n)].values[0]) == True:
                mortalidade = ''
            else:
                mortalidade = mort[str(n)].values[0]
                mortalidade = mortalidade.astype(int)

            dicionario_ano[n] = [populacao, natalidade, mortalidade]
            dicionario_cidade2[cidade] = dicionario_ano
            # dicionario_cidade2[cidade_sem_acento] = dicionario_ano
        dicionario_ano = {}
    dicionario_estados[i] = dicionario_cidade2
    lista_estados.append(dicionario_estados)
    
    dicionario_pais.update(dicionario_estados)
    
    dicionario_cidade2 = {}
    dicionario_estados = {}
    
#dicionario_pais['Brasil'] = lista_estados[:]




len(lista_estados)

# df_city = pd.DataFrame(dicionario_estados.values(), index=[[i] * len(dicionario_cidade2.keys()), list(dicionario_cidade2.keys()), ['População'] * len(dicionario_cidade2.keys())] )

# df_city



#dicionario_cidade2 # o primeiro está saindo errado


dicionario_pais['AM']['Tefé']


# Exibindo os resultados de todas as cidades dos estados

# for k, v in dicionario_pais.items():
#     print(f'\033[1m{k}\033[m = ', end='')
#     for n, m in v.items():
#         print(f'{n} - {m}', end=', ')
#     print('\n')


# Exibindo os resultados de todas as cidades de um estado

for k, v in dicionario_pais['AL'].items():
    print(f'\033[1m{k}\033[m = ', end='')
    for n, m in v.items():
        print(f'{n} - {m}', end=', ')
    print('\n')


# Exibindo os resultados de cidades selecionadas em um estado

for k, v in dicionario_pais['MG'].items():
    if k in ['Bom Despacho', 'Lagoa da Prata', 'Luz', 'Moema']:
        print(f'\033[1m{k}\033[m = ', end='')
        for n, m in v.items():
            print(f'{n} - {m}', end=', ')
        print('\n')


list(range(2001, 2021))


#dict1


dict0 = {}
dict1 = {}

estados=['AC', 'AL', 'AM', 'AP', 'BA', 'CE', 'DF', 'ES', 'GO', 'MA', 'MG', 'MS', 'MT', 'PA', 'PB', 'PE', 'PI', 'PR', 'RJ', 'RN', 'RO', 'RR', 'RS', 'SC', 'SE', 'SP', 'TO']

#for w in ['DF', 'GO', 'MG']:
for w in estados:
    # dict0[w] = dicionario_pais[w]
    # dict1.update(dict0)
    # dict0 = {}
    dict1.update(dicionario_pais[w])

    
#dict1
#------------------------------------------------------------------------

dicionario_values = {}
dicionario_cid_val = {}
dicionario_p = {}
perc = []

for k, v in dict1.items():
#    if k in ['Bom Despacho', 'Lagoa da Prata', 'Luz', 'Moema']:
    if k in ['São Luís', 'Teresina', 'Fortaleza', 'Natal', 'Recife', 'João Pessoa', 'Maceió', 'Aracaju', 'Salvador']:
        for n, m in v.items():
            dicionario_values[n]= m[0] # 0 é população, 1 é natalidade, 2 é mortalidade
        percent = ((list(dicionario_values.values())[-1]/list(dicionario_values.values())[0])-1)*100
        perc.append(f'{k} = {percent:.2f}%')

        dicionario_cid_val[k] = dicionario_values
        dicionario_values = {}
    dicionario_p.update(dicionario_cid_val)
    dicionario_cid_val = {}

# -------------------------------------------------------------------------

fig = px.line(
    dicionario_p,
    y= list(dicionario_p.keys()),
    x=list(range(2001, 2021)),
    #barmode='group'
)
fig.show()

print(dicionario_p, '\n')

perc[:]


# Exibindo os resultados de cidades selecionadas em um estado

dicionario_values = {}
dicionario_cid_val = {}
dicionario_p = {}

for k, v in dicionario_pais['GO'].items():
#    if k in ['Bom Despacho', 'Lagoa da Prata', 'Luz', 'Moema']:
    if k in ['Luziânia']:
        for n, m in v.items():
            dicionario_values[n]= m[0] # 0 é população, 1 é natalidade, 2 é mortalidade
        dicionario_cid_val[k] = dicionario_values
        dicionario_values = {}
    dicionario_p.update(dicionario_cid_val)
    dicionario_cid_val = {}


fig = px.line(dicionario_p, y= list(dicionario_p.keys()), x=list(range(2001, 2021)),#barmode='group'
             )
fig.show()

dicionario_p


for i in dicionario_p.keys():
    print(f'{i:.<15} {((list(dicionario_p[i].values())[-1]/list(dicionario_p[i].values())[1])-1)*100:.2f}%')


for i in range(len(lista_estados)):
    print(list(lista_estados[:][i].keys())[0])
    

#list(lista_estados[:][0].keys())[0]


# for n in lista_estados[:2]:
#     print(n, '\n')
#print(lista_estados)


list(lista_estados[:][0].keys())[0]


#lista_estados


#lista_estados[:2]


#list(dicionario_pais.values())


# df_city = pd.DataFrame(dicionario_estados.values(), index=[[i] * len(dicionario_cidade2.keys()), list(dicionario_cidade2.keys()), ['População'] * len(dicionario_cidade2.keys())] )

# lista_uf = []

# for i in range(len(lista_estados)):
#     lista_uf.append(list(lista_estados[:][i].keys())[0])

# df_tot = pd.DataFrame(dicionario_pais.values(), index=dicionario_pais.keys())

# df_tot


if 'São Paulo' == 'Sao Paulo':
    print('True')
else:
    print('False')


'Aguia Branca' < 'Abto Rio Novo'


# # script para ordenar elementos com acento como se não o possuíssem
# import unicodedata

# lista = ['Alto Rio Novo', 'Moema', 'Unaí', 'São Paulo', 'São Bartolomeu', 'Luz', 'Águia Branca', 'São Roque do Canaã']

# lista_ordenada = []
# lista_final = []

# for cidade in lista:
#     original = cidade
#     print(original[:2] + original[2:])
    
#     if len(original.split(' ')) > 1:
#         processado = unicodedata.normalize("NFD", original.split(' ')[0])
#         processado = processado.encode("ascii", "ignore")
#         processado = processado.decode("utf-8")
    
#         #processado = processado.join(original.split(' ')[1:])
#         parte2 = ' '.join(original.split(' ')[1:])
#         processado = processado + ' ' + parte2
#     else:
#         processado = unicodedata.normalize("NFD", original)
#         processado = processado.encode("ascii", "ignore")
#         processado = processado.decode("utf-8")

    
#     #print(processado)

#     if original == processado:
#         lista_ordenada.append(original)
#     else:
#         lista_ordenada.append(processado)
#         #lista_ordenada.append(original)

#     lista_ordenada = sorted(lista_ordenada)
#     #sorted(lista)
    
    

# for i in range(len(lista_ordenada)):
#     #print(lista_ordenada[i][2:])
#     for n in lista:
#         #print(n[2:])
#         if n[2:] in lista_ordenada[i][2:]:
#         #lista_ordenada[i] = lista[i]
#             #print(n)
#             lista_final.append(n)
#         #lista

# #lista_ordenada
# #lista_final


# script para ordenar elementos com acento como se não o possuíssem
import unicodedata

lista = ['Alto Rio Novo', 'Moema', 'Unaí', 'São Paulo', 'São Bartolomeu', 'Luz', 'Águia Branca', 'São Roque do Canaã', 'Águas Lindas de Goiás']

lista_ordenada = []
lista_final = []

for cidade in lista:
    original = cidade

    processado = unicodedata.normalize("NFD", original[:2])
    processado = processado.encode("ascii", "ignore")
    processado = processado.decode("utf-8")

    processado = processado + original[2:]

    if original == processado:
        lista_ordenada.append(original)
    else:
        lista_ordenada.append(processado)
        #lista_ordenada.append(original)

    lista_ordenada = sorted(lista_ordenada)

    
for i in range(len(lista_ordenada)):
    for n in lista:
        if n[2:] in lista_ordenada[i][2:]:
            lista_final.append(n)


#lista_ordenada
lista_final


lista[0][2:] == lista_ordenada[1][2:]


lista_ordenada[1][2:]


lista_ordenada[0]


import unicodedata

original = 'Águia Branca'

processamento_2 = unicodedata.normalize("NFD", original)
#print(processamento_2) # É o 5º e último. Estava 30°C
processamento_2 = processamento_2.encode("ascii", "ignore")
#print(processamento_2) # b'E o 5 e ultimo. Estava 30C'
processamento_2 = processamento_2.decode("utf-8")
print(processamento_2) # E o 5 e ultimo. Estava 30C


list(dicionario_cidade2.keys())


len(dicionario_cidade2.keys())


df2.loc['AC'].index


#dicionario_cidade2.get('Alto Alegre').get(2001)



#dicionario_cidade2.keys()


#list(list(dicionario_cidade2.values())[0].values())


for k, v in dicionario_pais['GO']['Luziânia'].items():
    print(k, v[0])


dicionario_pais['GO']['Luziânia'][2002][0] - dicionario_pais['GO']['Luziânia'][2001][0]



for n in list(range(2020, 2001, -1)):
    a = dicionario_pais['GO']['Luziânia'][n][0] - dicionario_pais['GO']['Luziânia'][n-1][0]
    print(a)


dicionario_pais['GO']['Luziânia']


# crescimento populacional ano a ano de Luziânia - GO

print('\033[1m Ano    População   Var_Pop    Nat-Mort    Saldo\033[m')
print('-'*50)

for n in list(range(2001, 2020)):
    # variação da população
    a = dicionario_pais['GO']['Luziânia'][n+1][0]
    b = dicionario_pais['GO']['Luziânia'][n][0]
    s = a-b
    
    # variação entre natalidade e mortalidade
    c = dicionario_pais['GO']['Luziânia'][n+1][1]
    d = dicionario_pais['GO']['Luziânia'][n][2]
    r = c-d
    
    var = s-r
    
    print(f'{n+1} | {a+1:>8}   | {s:>6}   | {r:>6}   | {var:>6}')


# crescimento populacional ano a ano de Luziânia - GO

print('\033[1m Ano    População   Var_Pop    Nat-Mort    Saldo\033[m')
print('-'*50)
print(f"2001 | {dicionario_pais['AM']['Tefé'][2001][0]:>8}   | {0:>6}   | {dicionario_pais['AM']['Tefé'][2001][1] - dicionario_pais['AM']['Tefé'][2001][2]:>6}   | {0:>6}")

for n in list(range(2001, 2020)):
    # variação da população
    a = dicionario_pais['AM']['Tefé'][n+1][0]
    b = dicionario_pais['AM']['Tefé'][n][0]
    s = a-b
    
    # variação entre natalidade e mortalidade
    c = dicionario_pais['AM']['Tefé'][n+1][1]
    d = dicionario_pais['AM']['Tefé'][n+1][2]
    r = c-d
    
    var = abs(s)-r
    var = var *(-1)
    
    print(f'{n+1} | {a+1:>8}   | {s:>6}   | {r:>6}   | {var:>6}')


# crescimento populacional ano a ano de Luziânia - GO

estado = 'MG'
cidade = 'Lagoa da Prata'

lista_saldo = []
lista_saldo_pop = []
natal = []
mortal = []

# a = dicionario_pais[estado][cidade][2001][0]
# b = dicionario_pais[estado][cidade][2001][1]
# c = dicionario_pais[estado][cidade][2001][2]

# print('\033[1m Ano     População  +  Natalidade - Mortalidade  =    Total   |     Saldo     |    Saldo_pop\033[m')
# print('-'*60)
# print(f"2001   | {a:>8}   +  {b:>6}     -   {c:>6}     =   {a+b-c:>6}   |          0")

for n in list(range(2000, 2020)):
    # variação da população
    pop = dicionario_pais[estado][cidade][n+1][0]
    nat = dicionario_pais[estado][cidade][n+1][1]
    mort = dicionario_pais[estado][cidade][n+1][2]
    natal.append(nat)
    mortal.append(mort)
    
    #pop_sald = dicionario_pais[estado][cidade][n+1][0] - dicionario_pais[estado][cidade][n][0]
    #lista_saldo_pop.append(pop_sald)
    
    #var = dicionario_pais[estado][cidade][n+1][0] - ((dicionario_pais[estado][cidade][n][0]+dicionario_pais[estado][cidade][n][1]-dicionario_pais[estado][cidade][n][2])) #(pop+nat+mort)
    #lista_saldo.append(var*(-1))
    
    print(n+1, pop, nat, mort, ((pop+nat)-mort))
    
    
    # if var < 0:
    #     var = f'\033[1;31m{var:>8}\033[m'
    # else:
    #     var = f'\033[1;34m{var:>8}\033[m'
        

    
    #print(f'{n+1}   | {pop:>8}   +  {nat:>6}     -   {mort:>6}     =   {pop+nat-mort:>6}')
    #print(f'{n+1}   | {pop:>8}   +  {nat:>6}     -   {mort:>6}     =   {pop+nat-mort:>6}   |   {var}    |     {pop_sald:>6}')


df2.loc['MG'].loc[['Lagoa da Prata']]


df_mort[df_mort.codigo == 313720]


sum(lista_saldo)


sum(lista_saldo_pop)


sum(natal)


sum(mortal)


dicionario_pais['AM']['Tefé'][2001]


dicionario_pais['AM']['Tefé']


for n in list(range(2001, 2020)):
    a = dicionario_pais['GO']['Luziânia'][n+1][1]
    b = dicionario_pais['GO']['Luziânia'][n][2]
    s = a-b
    print(f'{n+1} | {a} - {b} = {s}')



