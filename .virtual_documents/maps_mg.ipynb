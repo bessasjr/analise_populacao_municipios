import json
import pandas as pd
import plotly
import plotly.express as px


df = pd.read_csv('populacao_3.csv')


df


df.id = df.id.astype('str')


df.info()


 # Abrindo o JSON e guardando em um objeto Python
objeto_geo_cidades_MG = open('mg.json')

# Lendo o arquivo georreferenciado no formato JSON
geo_mg = json.load(objeto_geo_cidades_MG) 


fig = px.choropleth_mapbox(
    df[df.uf == 'MG'],
    geojson = geo_mg,
    locations='id',
    featureidkey = 'properties.id',
    color = '2020',
    #animation_frame = '2020',
    hover_name = 'cidade',
    #hover_data = [‘casos’],
    #title = 'Minas Geais',
    #color_continuous_scale='Viridis',
    color_continuous_scale='Reds',
    #mapbox_style = 'carto-positron', #defining a new map style
    mapbox_style='open-street-map',
    #center = {'lat':-22.77972, 'lon': -48.5},
    center = {'lat': -18.65, 'lon': -45.61},
    zoom = 5.7,
    opacity = 0.95,
    width = 1000,
    height = 800,
)


fig.update_geos(
    fitbounds = 'locations',
    visible = False
)

fig.update_layout(margin={'r':0,'t':0,'l':0, 'b':0})

#plotly.offline.plot(fig, filename = 'sp_map_covid_cases.html')

#fig.show()



