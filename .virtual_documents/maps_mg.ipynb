import json
import pandas as pd
import plotly
import plotly.express as px


df = pd.read_csv('populacao_3.csv')


df


df.id = df.id.astype('str')


df.info()


 # Abrindo o JSON e guardando em um objeto Python
objeto_geo_cidades_MG = open('mg.json')

# Lendo o arquivo georreferenciado no formato JSON
geo_mg = json.load(objeto_geo_cidades_MG) 


fig = px.choropleth_mapbox(
    df[df.uf == 'MG'],
    geojson = geo_mg,
    locations='id',
    featureidkey = 'properties.id',
    color = '2020',
    #animation_frame = '2020',
    hover_name = 'cidade',
    #hover_data = [‘casos’],
    #title = 'Minas Geais',
    #color_continuous_scale='Viridis',
    color_continuous_scale='Reds',
    #mapbox_style='open-street-map',
    #mapbox_style="carto-positron",
    mapbox_style='white-bg',
    #center = {'lat':-22.77972, 'lon': -48.5},
    center = {'lat': -18.65, 'lon': -45.61},
    zoom = 5.7,
    opacity = 0.95,
    width = 1000,
    height = 800,
)


fig.update_geos(
    fitbounds = 'locations',
    visible = False
)

fig.update_layout(margin={'r':0,'t':0,'l':0, 'b':0})

plotly.offline.plot(fig, filename = 'minas_gerais.html')

#fig.show()


# Salvando os dados percentuais
dicionario_mg = {}
for i in df[df.uf == 'MG'].index:
    # if df.loc[i][1] in ['Unaí', 'Paracatu', 'Moema', 'Lagoa da Prata', 'Luz', 'Bom Despacho']:
    perc = f'{((df.loc[i][-1]/df.loc[i][3])-1)*100:.2f}'
    #perc = perc.replace('.', ',')
    #print(perc,'|', df.loc[i][1], '|', df.loc[i][2])
    dicionario_mg[df.loc[i][1]] = [df.loc[i][1], df.loc[i][2], float(perc)]
        
#dicionario_mg


df_mg = pd.DataFrame(dicionario_mg.values(),columns=['cidade', 'id', 'percentual'])
df_mg


fig = px.choropleth_mapbox(
    df_mg,
    geojson = geo_mg,
    locations='id',
    featureidkey = 'properties.id',
    color = 'percentual',
    #animation_frame = '2020',
    hover_name = 'cidade',
    #hover_data = [‘casos’],
    #title = 'Minas Geais',
    #color_continuous_scale='Viridis',
    color_continuous_scale='Reds',
    #mapbox_style='open-street-map',
    #mapbox_style="carto-positron",
    mapbox_style='white-bg',
    #center = {'lat':-22.77972, 'lon': -48.5},
    center = {'lat': -18.65, 'lon': -45.61},
    zoom = 5.7,
    opacity = 0.95,
    width = 1000,
    height = 800,
)


fig.update_geos(
    fitbounds = 'locations',
    visible = False
)

fig.update_layout(margin={'r':0,'t':0,'l':0, 'b':0})

#plotly.offline.plot(fig, filename = 'minas_gerais.html')

fig.show()


df_mg[df_mg.percentual == -43.25]



