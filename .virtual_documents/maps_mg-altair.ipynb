import json
import pandas as pd
import geopandas as gpd
import altair as alt


# Desabilitanto o limite de 5.000 linhas de df do Altair
alt.data_transformers.enable('default', max_rows=None)


#pip install geopandas


df = pd.read_csv('populacao_3.csv')


df


df.id = df.id.astype('str')


df.info()


# Salvando os dados percentuais
dicionario_mg = {}
for i in df[df.uf == 'MG'].index:
    # if df.loc[i][1] in ['Unaí', 'Paracatu', 'Moema', 'Lagoa da Prata', 'Luz', 'Bom Despacho']:
    perc = f'{((df.loc[i][-1]/df.loc[i][3])-1)*100:.2f}'
    #perc = perc.replace('.', ',')
    #print(perc,'|', df.loc[i][1], '|', df.loc[i][2])
    dicionario_mg[df.loc[i][1]] = [df.loc[i][1], df.loc[i][2], float(perc)]
        
#dicionario_mg


df_mg = pd.DataFrame(dicionario_mg.values(),columns=['cidade', 'id', 'percentual'])
df_mg


# Pegando o geojson
url_geojson = 'mg.json'
geo_mg = gpd.read_file(url_geojson)

geo_mg


# Levando os dados da taxa de mortalidade para dentro do objeto geoespacial
geo_mg = pd.merge(
    left = geo_mg,
    right = df_mg.filter(items=['id','percentual']), 
    on='id'
)

geo_mg


# criando o mapa
mapa_altair = alt\
  .Chart(
    data = geo_mg, 
    title = 'Minas Gerais'
  )\
  .mark_geoshape(
    stroke='grey',
    strokeWidth=0.1
  )\
  .encode( 
      alt.Color(shorthand = 'percentual', 
                  type='quantitative', 
                  scale=alt.Scale(scheme='reds'),
                  title = "Percentual"),
    tooltip=['name','id','percentual']
  )\
  .properties( 
    width=800,
    height=600

)

# Exibindo o mapa
(mapa_altair).configure_view(strokeWidth=0)






