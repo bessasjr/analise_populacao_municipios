import json
import pandas as pd
import plotly
import plotly.express as px


df = pd.read_csv('populacao_3.csv')


df


df.id = df.id.astype('str')


df.info()


df[df.uf == 'GO']


# Abrindo o JSON e guardando em um objeto Python
objeto_geo_cidades_GO = open('json_geographic_brazil/centro-oeste/go.json')

# Lendo o arquivo georreferenciado no formato JSON
geo_go = json.load(objeto_geo_cidades_GO) 


fig = px.choropleth_mapbox(
    df[df.uf == 'GO'],
    geojson = geo_go,
    locations='id',
    featureidkey = 'properties.id',
    color = '2020',
    #animation_frame = '2020',
    hover_name = 'cidade',
    #hover_data = [‘casos’],
    #title = 'Casos de COVID-19 em São Paulo',
    #color_continuous_scale='Viridis',
    color_continuous_scale='Reds',
    #mapbox_style = 'carto-positron', #defining a new map style
    mapbox_style='open-street-map',
    #center = {'lat':-22.77972, 'lon': -48.5},
    center = {'lat': -16.10, 'lon': -49.65},
    zoom = 6.1,
    opacity = 0.95,
    width = 1000,
    height = 800,
)


fig.update_geos(
    fitbounds = 'locations',
    visible = False
)

fig.update_layout(margin={'r':0,'t':0,'l':0, 'b':0})

#plotly.offline.plot(fig, filename = 'sp_map_covid_cases.html')

#fig.show()


# Salvando os dados percentuais
dicionario_go = {}
for i in df[df.uf == 'GO'].index:
    perc = f'{((df.loc[i][-1]/df.loc[i][3])-1)*100:.2f}'
    #perc = perc.replace('.', ',')
    #print(perc,'|', df.loc[i][1], '|', df.loc[i][2])
    dicionario_go[df.loc[i][1]] = [df.loc[i][1], df.loc[i][2], float(perc)]
        
#dicionario_go


df_go = pd.DataFrame(dicionario_go.values(),columns=['cidade', 'id', 'percentual'])
df_go


fig = px.choropleth_mapbox(
    df_go,
    geojson = geo_go,
    locations='id',
    featureidkey = 'properties.id',
    color = 'percentual',
    #animation_frame = '2020',
    hover_name = 'cidade',
    #hover_data = [‘casos’],
    #title = 'Casos de COVID-19 em São Paulo',
    #color_continuous_scale='Viridis',
    color_continuous_scale='Reds',
    #mapbox_style = 'carto-positron', #defining a new map style
    #mapbox_style='open-street-map',
    mapbox_style='white-bg',
    #center = {'lat':-22.77972, 'lon': -48.5},
    center = {'lat': -16.10, 'lon': -49.65},
    zoom = 5.7,
    opacity = 0.95,
    width = 1000,
    height = 800,
)


fig.update_geos(
    fitbounds = 'locations',
    visible = False
)

# fig.update_traces(
#     marker_line_color='darkgray',
#     marker_line_width=0.01
# )

fig.update_layout(margin={'r':0,'t':0,'l':0, 'b':0})

#plotly.offline.plot(fig, filename = 'sp_map_covid_cases.html')

#fig.show()


df_go.percentual.min()



