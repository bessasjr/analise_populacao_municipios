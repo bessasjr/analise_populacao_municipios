import json
import pandas as pd
import plotly
import plotly.express as px


objeto_geo_cidades = open('geojs-100-mun.json')


geo_cidades = json.load(objeto_geo_cidades)


geo_cidades['features'][1]


df = pd.read_csv('populacao_3.csv')


df


df.id = df.id.astype('str')


df.info()


df[df.uf == 'GO']


# Criando o mapa
mapa_populacao = px.choropleth_mapbox(
    data_frame = df, 
    geojson = geo_cidades, 
    locations='id',
    featureidkey='properties.id',
    #color='2020',
    #color_continuous_scale= 'reds',
    range_color=(150, 450),
    mapbox_style='open-street-map',
    zoom=2.5, 
    center = {"lat": -17.14, "lon": -57.33},
    opacity=1,
    labels={'deaths_per_100k_inhabitants':'Tx. Mortalidade (/ 100 mil hab.)', 
            'id' : 'Código do município'
    },
    width = 1000,
    height = 800,
    title = 'Taxa de Mortalidade por Covid-19, por municípios, 11/08/2022'
)

# Ajustando as margens
mapa_populacao.update_layout(margin={'r':0,'t':0,'l':0, 'b':0})

# Reduzindo a largura das bordas dos municípios
mapa_populacao.update_traces(marker_line_width=0.01)

# Exibindo o mapa
mapa_populacao.show()



