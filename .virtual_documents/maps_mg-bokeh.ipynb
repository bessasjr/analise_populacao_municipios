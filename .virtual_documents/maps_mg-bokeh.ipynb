import json
import pandas as pd
import geopandas as gpd



# Importando de forma explícitas as bibliotecas
import bokeh.io
import bokeh.plotting

# Habilitando a visualização de gráficos gerados pelo Bokeh em Notebooks
bokeh.io.output_notebook()

# Importando bibliotecas necessárias
from bokeh.models import GeoJSONDataSource
from bokeh.palettes import YlGnBu
from bokeh.models import HoverTool
from bokeh.models import LinearColorMapper, LogColorMapper, ColorBar


#pip install geopandas


df = pd.read_csv('populacao_3.csv')


df


df.id = df.id.astype('str')


df.info()


# Salvando os dados percentuais
dicionario_mg = {}
for i in df[df.uf == 'MG'].index:
    # if df.loc[i][1] in ['Unaí', 'Paracatu', 'Moema', 'Lagoa da Prata', 'Luz', 'Bom Despacho']:
    perc = f'{((df.loc[i][-1]/df.loc[i][3])-1)*100:.2f}'
    #perc = perc.replace('.', ',')
    #print(perc,'|', df.loc[i][1], '|', df.loc[i][2])
    dicionario_mg[df.loc[i][1]] = [df.loc[i][1], df.loc[i][2], float(perc)]
        
#dicionario_mg


df_mg = pd.DataFrame(dicionario_mg.values(),columns=['cidade', 'id', 'percentual'])
df_mg


# Pegando o geojson
url_geojson = 'mg.json'
geo_mg = gpd.read_file(url_geojson)

geo_mg


# Levando os dados da taxa de mortalidade para dentro do objeto geoespacial
geo_mg = pd.merge(
    left = geo_mg,
    right = df_mg.filter(items=['id','percentual']), 
    on='id'
)

geo_mg


# Lendo json e fazendo transformações necessárias para GEOJSON
merged_json = json.loads(geo_mg.to_json())
json_data = json.dumps(merged_json)
geojson_mg = GeoJSONDataSource(geojson = json_data)

# Definindo paleta de cores
palette = bokeh.palettes.Reds[6]
palette = palette[::-1]

# Fazendo cortes lineares na escala para para aplicar paleta
# Para cortes logaritmos utilize LogColorMapper
color_mapper = LinearColorMapper(
    palette = palette, 
    low = geo_mg['percentual'].min(), 
    high = geo_mg['percentual'].max(), 
    nan_color = '#d9d9d9')

# Ajustando ferramenta para popup com mouse
hover = HoverTool(
    tooltips = [ ('Município','@name'),
                ('Percentual','@percentual')
    ])

# Criando barras de cores 
color_bar = ColorBar(
    color_mapper=color_mapper, 
    label_standoff=6,
    width = 500, 
    height = 20,
    border_line_color=None,
    location = (0,0), 
    orientation = 'horizontal', 
)

# Definindo propriedades do mapa
mapa_bokeh = bokeh.plotting.figure(
    title = 'Minas Gerais', 
    #min_height = 600, 
    #min_width = 600, 
    toolbar_location = None, 
    tools = [hover]
)

# Ajustando linhas de grades e visibilidade dos eixos
mapa_bokeh.xaxis.visible = False

mapa_bokeh.yaxis.visible = False

mapa_bokeh.xgrid.grid_line_color = None

mapa_bokeh.ygrid.grid_line_color = None


# Ajustes para renderização. 
mapa_bokeh.patches(
  'xs','ys', source = geojson_mg,
  fill_color = {'field' :'percentual', 'transform':color_mapper},
  line_color = 'grey', line_width = 0.25, fill_alpha = 1
)

# Adicionando barra de cores
mapa_bokeh.add_layout(color_bar, 'below')


# Exibindo o mapa
bokeh.io.show(mapa_bokeh)



