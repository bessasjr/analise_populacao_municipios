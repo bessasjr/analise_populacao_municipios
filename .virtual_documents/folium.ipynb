import folium
from folium import plugins
from folium.features import DivIcon
import json
import geopandas as gpd
import pandas as pd


df_coor = pd.read_csv('municipios_geo_coordenadas.csv', engine='c')
df_pop = pd.read_csv('populacao_3.csv', engine='c')


df_pop.id = df_pop.id.astype('str')


df_coor


dicionario={
    'RO':11,'AC':12,'AM':13,'RR':14,'PA':15,'AP':16,
    'TO':17,'MA':21,'PI':22,'CE':23,'RN':24,'PB':25,
    'PE':26,'AL':27,'SE':28,'BA':29,'MG':31,'ES':32,
    'RJ':33,'SP':35,'PR':41,'SC':42,'RS':43,'MS':50,
    'MT':51,'GO':52,'DF':53
}


int(df_pop[df_pop.cidade == 'Luziânia']['2020'].values[0])


int(df_pop[(df_pop.cidade == 'Campo Grande')&(df_pop.uf == 'MS')]['2020'].values[0])


df_pop[(df_pop.cidade == 'Amapá')&(df_pop.uf == 'AP')]


df_pop[df_pop.uf == 'GO']


df_coor[(df_coor.nome == 'Moema')]


cidade = input('Digite a cidade: ')
estado = input('Digite a UF: ').upper()

#cidade = 'Luziânia'
#estado = 'GO'

latitude = df_coor[(df_coor.nome == cidade)&(df_coor.codigo_uf == dicionario[estado])].latitude.values[0]
latitude_text = latitude

longitude = df_coor[(df_coor.nome == cidade)&(df_coor.codigo_uf == dicionario[estado])].longitude.values[0]
longitude_text = longitude

#longitude = longitude + .020
pop = int(df_pop[(df_pop.cidade == cidade)&(df_pop.uf == estado)]['2020'].values[0])
#pop = int(df_pop[df_pop.cidade == cidade]['2020'].values[0])
#pop2 = df_pop[df_pop.cidade == cidade]['2020'].values[0]
print(pop)

start = None
start_mini = None

if pop < 50000:
    start = 14
    # longitude = longitude + .0200
    # latitude_text = latitude + .0200
    # longitude_text = longitude + .0100
    start_mini = -10
elif 50000 < pop < 100000:
    start = 13
    # latitude = latitude + .0100
    # longitude = longitude + .0400
    # latitude_text = latitude + .0400
    # longitude_text = longitude + .0250
    start_mini = -9
elif 100000 < pop < 250000:
    start = 13
    # latitude = latitude + .0400
    # longitude = longitude + .1000
    # latitude_text = latitude + .0800
    # longitude_text = longitude + .0400
    start_mini = -8
elif 250000 < pop < 500000:
    start = 12
    # latitude = latitude + .0400
    # longitude = longitude + .1000
    # latitude_text = latitude + .0800
    # longitude_text = longitude + .0400
    start_mini = -8
elif 500000 < pop < 5000000:
    start = 12
    # latitude = latitude + .0200
    # longitude = longitude + .1000
    # latitude_text = latitude + .0800
    # longitude_text = longitude + .0400
    start_mini = -8 
elif 5000000 < pop < 10000000:
    start = 13
    # latitude = latitude + .0200
    # longitude = longitude + .0300
    # latitude_text = latitude + .0400
    # longitude_text = longitude + .0250
    start_mini = -7 
elif pop > 10000000:
    start = 11
    # latitude = latitude + .0200
    # longitude = longitude + .1100
    # latitude_text = latitude + .1600
    # longitude_text = longitude + .1000
    start_mini = -7 

print(start)
#print(latitude, longitude)

#
mapa = folium.Map(
    #location=[-16.3592,-46.9022],
    location=[latitude,longitude],
    zoom_start=start,
    width=800,
    height=600,
    left='0%',
    #tiles='mapquestopen'
)

minimap = plugins.MiniMap(
    zoom_level_offset=start_mini,
)

# back = folium.Rectangle(
#     bounds=[
#         [latitude-.100,longitude+.08],
#         [latitude+.080,longitude+.250],
#         [latitude+.080,longitude+.250],
#         [latitude-.100,longitude+.08]
#     ],
#     color='#ff7800',
#     fill=True,
#     fill_color='#ffff00',
#     fill_opacity=0.2,
# ).add_to(mapa)




# folium.map.Marker(
#     [latitude_text, longitude_text],
#     #tooltip='center',
#     #popup=folium.Popup(f'<div style="font-size: 10pt">{cidade}</div>'),
#     icon=DivIcon(
#         icon_size=(250,36),
#         icon_anchor=(0,0),
#         html=f'''<div style="font-size: 20pt">{cidade}</div>
#         <div style="font-size: 14pt">Ano: {2020}</div>
#         <div style="font-size: 12pt">População: {pop} habitantes</div>
#         <div style="font-size: 12pt">Natalidade: {pop} nascimentos</div>
#         <div style="font-size: 12pt">Mortalidade: {pop} óbitos</div>''',
#         #html=f'<div style="font-size: 10pt">{pop}</div>',
#         )
#     ).add_to(mapa)

mapa.add_child(minimap)


dicionario_go = {}
for i in df_pop[df_pop.uf == 'GO'].index:
    perc = f'{((df_pop.loc[i][-1]/df_pop.loc[i][3])-1)*100:.2f}'
    dicionario_go[df_pop.loc[i][1]] = [df_pop.loc[i][1], df_pop.loc[i][2], float(perc)]

#dicionario_go


df_go = pd.DataFrame(dicionario_go.values(),columns=['cidade', 'id', 'percentual'])
df_go


# Pegando o geojson
url_geojson = 'json_geographic_brazil/centro-oeste/go.json'

geo = gpd.read_file(url_geojson)

#geo


geo = geo[['id', 'name', 'geometry']]


# anos = [
# '2001','2002','2003','2004','2005','2006','2007','2008','2009','2010','2011','2012','2013','2014','2015','2016','2017','2018','2019','2020'
# ]


# Levando os dados da taxa de mortalidade para dentro do objeto geoespacial
geo_go = pd.merge(
    left = geo,
    #right = df_pop[df_pop.uf == 'GO'].filter(items=['id', '2001','2002','2003','2004','2005','2006','2007','2008','2009','2010','2011','2012','2013','2014','2015','2016','2017','2018','2019','2020']), 
    right = df_go.filter(items=['id','percentual']), 
    on='id'
)

geo_go


df_pop[df_pop.uf == 'GO']


geo_go


# cidade = 'Porto Seguro'
# for i in geo_go.index:
#     city = geo_go.loc[i].name
#     if city == cidade:
#         cidade_cord = geo_go.loc[i].geometry
        
#cidade_cord


# # encontrando as coordenadas da cidade escolhida
# for i in range(len(geo_go['features'])):
#     city = geo_go['features'][i]['properties']['name']
#     #print(city)
#     if city == cidade:
#         cidade_cord = (geo_go['features'][i]['geometry']['coordinates'])


# Escolhendo a cidade e estado
cidade = input('Digite a cidade: ')
estado = input('Digite a UF: ').upper()


# encontrando as coordenadas da cidade escolhida
for i in geo_go.index:
    city = geo_go.loc[i].name
    if city == cidade:
        cidade_cord = geo_go.loc[i].geometry




latitude = df_coor[(df_coor.nome == cidade)&(df_coor.codigo_uf == dicionario[estado])].latitude.values[0]
latitude_text = latitude

longitude = df_coor[(df_coor.nome == cidade)&(df_coor.codigo_uf == dicionario[estado])].longitude.values[0]
longitude_text = longitude

#longitude = longitude + .020
pop = int(df_pop[(df_pop.cidade == cidade)&(df_pop.uf == estado)]['2020'].values[0])


start = None
start_mini = None

if pop < 50000:
    start = 14
    start_mini = -10
elif 50000 < pop < 100000:
    start = 13
    start_mini = -9
elif 100000 < pop < 250000:
    start = 13
    start_mini = -8
elif 250000 < pop < 500000:
    start = 12
    start_mini = -8
elif 500000 < pop < 5000000:
    start = 12
    start_mini = -8 
elif 5000000 < pop < 10000000:
    start = 13
    start_mini = -7 
elif pop > 10000000:
    start = 11
    start_mini = -7 

print(start)
#print(latitude, longitude)

#
mapa = folium.Map(
    location=[latitude,longitude],
    zoom_start=start,
    width=800,
    height=600,
    left='0%',
)

# Criando um minimap
minimap = plugins.MiniMap(
    zoom_level_offset=start_mini,
)

# Criando a camada Choroplet
choro = folium.Choropleth(
    geo_data = geo_go[geo_go.name == cidade],
    name ='choropleth',
    data = df_go[df_go.cidade == cidade],
    columns = ['id','percentual'],
    #key_on = 'feature.properties.id',
    #bins=100,
    #key_on = 'feature.id',
    fill_color = 'YlOrBr',
    #fill_color = 'magma',
    #nan_fill_color = 'white',
    #nan_fill_opacity = 0.05,
    fill_opacity = 0.02,
    line_opacity = 0.9,
    line_color = 'black',
    line_weight = 0.5,
    #legend_name = 'Variação percentual da população entre 2001 e 2020',
    highlight = True,
    reset = True,

).add_to(mapa)

# #Inserindo os rotulos ao passar o mouse
# choro.geojson.add_child(
#   folium.features.GeoJsonTooltip(
#       fields = ['name','percentual'],
#       aliases = ['Município:', 'Percentual:'],
#       labels = True,
#       localize = True,
#       sticky = True,
#       style=('background-color: black; color: white; font-family: Arial')
      
#   )
# )

mapa.add_child(minimap)





# m = folium.Map(
#     #location=[-16.3592,-46.9022],
#     location=[-16.3592,-46.8622],
#     zoom_start=13,
#     width=1000,
#     height=600,
#     left='0%',
#     #tiles='Cartodbpositron'
# )
# mg = folium.Map(
#     location=[-18.1,-44.38],
#     zoom_start=13,
#     width=1000,
#     height=600,
#     left='0%',
#     #tiles='Cartodbpositron'
# )

# minimap = plugins.MiniMap(
#     zoom_level_offset=-9,
#     #collapsed_width=0,
#     #tile_layer="cartodbdark_matter",
#     #toggle_display=True
# )
# m.add_child(minimap)


# folium.Circle(
# radius=5,
# location=[-16.356418112875975, -46.904344774398986],
# color='crimson',
# fill=False,).add_to(m)
# m

# folium.CircleMarker(
#     location=(-16.356418112875975, -46.904344774398986),
#     radius=80, 
#     fill_color='red').add_to(m)
# m



